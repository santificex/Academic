{
 "cells": [
  {
   "cell_type": "code",
   "execution_count": 29,
   "metadata": {},
   "outputs": [],
   "source": [
    "#Import packages data and graphs\n",
    "import pandas as pd\n",
    "import matplotlib.pyplot as plt\n",
    "import numpy as np\n",
    "from scipy import stats\n",
    "#Import packages Machine Learning\n",
    "from sklearn.metrics import accuracy_score\n",
    "from sklearn.model_selection import train_test_split\n",
    "from sklearn.tree import DecisionTreeClassifier\n",
    "from sklearn.preprocessing import StandardScaler\n",
    "from sklearn.cluster import KMeans\n",
    "from itertools import cycle, islice\n",
    "from pandas.plotting import parallel_coordinates\n",
    "import statistics\n",
    "\n",
    "#Write excel\n",
    "import xlsxwriter\n",
    "import io\n",
    "import openpyxl\n",
    "from openpyxl.reader.excel import load_workbook\n",
    "\n",
    "#%matplotlib inline"
   ]
  },
  {
   "cell_type": "code",
   "execution_count": 30,
   "metadata": {},
   "outputs": [],
   "source": [
    "#Read and import data into dataframes\n",
    "info=pd.read_csv('Gender_StatsCountry.csv')\n",
    "stats=pd.read_csv('Gender_StatsData.csv')\n",
    "#info.head()\n",
    "#stats.head()"
   ]
  },
  {
   "cell_type": "code",
   "execution_count": 31,
   "metadata": {},
   "outputs": [],
   "source": [
    "#Unpivot data for ingestion\n",
    "stats=pd.melt(stats, id_vars=['Country Name','Country Code','Indicator Name','Indicator Code'],var_name='Year')"
   ]
  },
  {
   "cell_type": "code",
   "execution_count": 32,
   "metadata": {},
   "outputs": [
    {
     "name": "stdout",
     "output_type": "stream",
     "text": [
      "Choose year for analysis from: 2009 to 2018 Note: Some values may be missing\n"
     ]
    },
    {
     "name": "stdin",
     "output_type": "stream",
     "text": [
      " 2014\n"
     ]
    }
   ],
   "source": [
    "#Select year for analysis\n",
    "print('Choose year for analysis from: 2009 to 2018 Note: Some values may be missing')\n",
    "year=input()"
   ]
  },
  {
   "cell_type": "code",
   "execution_count": 33,
   "metadata": {},
   "outputs": [],
   "source": [
    "#Select only indicators of interest\n",
    "mask_indicator=stats['Indicator Name'].str.contains('yes')\n",
    "year_mask=stats['Year'].str.contains(year)\n",
    "gendereq=stats[mask_indicator & year_mask].drop(columns=['Indicator Code']).dropna()"
   ]
  },
  {
   "cell_type": "code",
   "execution_count": 34,
   "metadata": {},
   "outputs": [],
   "source": [
    "#Arrange data for ingestion\n",
    "df=pd.pivot_table(gendereq,index=['Country Code'], values='value',columns=['Indicator Name'], aggfunc=np.sum)\n",
    "df=df.dropna()"
   ]
  },
  {
   "cell_type": "code",
   "execution_count": 35,
   "metadata": {},
   "outputs": [],
   "source": [
    "features=list(df.columns)"
   ]
  },
  {
   "cell_type": "code",
   "execution_count": 36,
   "metadata": {},
   "outputs": [
    {
     "data": {
      "text/plain": [
       "KMeans(algorithm='auto', copy_x=True, init='k-means++', max_iter=300,\n",
       "       n_clusters=2, n_init=10, n_jobs=None, precompute_distances='auto',\n",
       "       random_state=None, tol=0.0001, verbose=0)"
      ]
     },
     "execution_count": 36,
     "metadata": {},
     "output_type": "execute_result"
    }
   ],
   "source": [
    "#Create k-means for clustering the dataframe\n",
    "kmean = KMeans(n_clusters=2)\n",
    "kmean.fit(df)"
   ]
  },
  {
   "cell_type": "code",
   "execution_count": 37,
   "metadata": {},
   "outputs": [],
   "source": [
    "#Assign centers to variable\n",
    "centers=kmean.cluster_centers_\n",
    "#centers"
   ]
  },
  {
   "cell_type": "code",
   "execution_count": 38,
   "metadata": {},
   "outputs": [],
   "source": [
    "# Function that creates a DataFrame with a column for Cluster Number\n",
    "\n",
    "def pd_centers(featuresUsed, centers):\n",
    "\tcolNames = list(featuresUsed)\n",
    "\tcolNames.append('prediction')\n",
    "\n",
    "\t# Zip with a column called 'prediction' (index)\n",
    "\tZ = [np.append(A, index) for index, A in enumerate(centers)]\n",
    "\n",
    "\t# Convert to pandas data frame for plotting\n",
    "\tP = pd.DataFrame(Z, columns=colNames)\n",
    "\tP['prediction'] = P['prediction'].astype(int)\n",
    "\treturn P"
   ]
  },
  {
   "cell_type": "code",
   "execution_count": 39,
   "metadata": {},
   "outputs": [],
   "source": [
    "# Function that creates Parallel Plots\n",
    "\n",
    "def parallel_plot(data):\n",
    "\tmy_colors = list(islice(cycle(['b', 'r', 'g', 'y', 'k']), None, len(data)))\n",
    "\tplt.figure(figsize=(15,8)).gca().axes.set_ylim([0,+1])\n",
    "\tparallel_coordinates(data, 'prediction', color = my_colors, marker='o')"
   ]
  },
  {
   "cell_type": "code",
   "execution_count": 40,
   "metadata": {},
   "outputs": [],
   "source": [
    "#Assign clusters and centers to variable P\n",
    "P = pd_centers(features, centers)\n",
    "#P"
   ]
  },
  {
   "cell_type": "code",
   "execution_count": 41,
   "metadata": {},
   "outputs": [],
   "source": [
    "#Apply clustering to dataset o future datasets and save it to variable a for plotting\n",
    "clustering=kmean.predict(df)\n",
    "#clustering"
   ]
  },
  {
   "cell_type": "code",
   "execution_count": 43,
   "metadata": {},
   "outputs": [
    {
     "name": "stdout",
     "output_type": "stream",
     "text": [
      "Document ready. Run again for other analysis.\n"
     ]
    },
    {
     "data": {
      "image/png": "[encoded data removed]",
      "text/plain": [
       "<Figure size 432x288 with 1 Axes>"
      ]
     },
     "metadata": {
      "needs_background": "light"
     },
     "output_type": "display_data"
    },
    {
     "data": {
      "image/png": "[encoded data removed]",
      "text/plain": [
       "<Figure size 1008x324 with 4 Axes>"
      ]
     },
     "metadata": {
      "needs_background": "light"
     },
     "output_type": "display_data"
    }
   ],
   "source": [
    "#Pair country name and prediction into a dataframe\n",
    "prediction=pd.DataFrame(list(zip(list(gendereq['Country Name'].unique()),np.array(clustering).tolist())), columns =['Country Code', 'Category']).sort_values(by=['Category'],ascending=False)\n",
    "\n",
    "#Create plot\n",
    "f0, (histo) = plt.subplots(1,1, sharex=False,sharey=False)\n",
    "\n",
    "f1, (d1,d2,d3,d4) = plt.subplots(1,4, sharex=True,sharey=True)\n",
    "#Create individual plots\n",
    "d1.plot(centers[0],label='0',color='r')\n",
    "d1.legend()\n",
    "d2.plot(centers[1],label='1',color='y')\n",
    "d2.legend()\n",
    "# d3.plot(centers[2],label='2',color='b')\n",
    "# d3.legend()\n",
    "# d4.plot(centers[3],label='3',color='g')\n",
    "# d4.legend()\n",
    "d1.grid()\n",
    "d2.grid()\n",
    "# d3.grid()\n",
    "# d4.grid()\n",
    "\n",
    "#Create histogram\n",
    "histo.hist(clustering)\n",
    "histo.grid()\n",
    "fig = plt.gcf()\n",
    "fig.set_size_inches(14,4.5)\n",
    "f0.savefig('Graphs0.png')\n",
    "\n",
    "\n",
    "fig = plt.gcf()\n",
    "fig.set_size_inches(14,4.5)\n",
    "f1.savefig('Graphs1.png')\n",
    "\n",
    "#Export to excel\n",
    "prediction.to_excel('Categorized Countries.xlsx', 'Ranking',index=False) #Create excel\n",
    "\n",
    "wb = load_workbook(filename = 'Categorized Countries.xlsx') #Load workbook\n",
    "ws = wb.active\n",
    "ws.column_dimensions['A'].width = 29 #Set first column width\n",
    "\n",
    "\n",
    "#Add plots to excel\n",
    "my_png0 = openpyxl.drawing.image.Image('Graphs0.png')\n",
    "ws.add_image(my_png0, 'C1')\n",
    "my_png1 = openpyxl.drawing.image.Image('Graphs1.png')\n",
    "ws.add_image(my_png1, 'C26')\n",
    "\n",
    "#Save workbook\n",
    "wb.save('Categorized Countries.xlsx')\n",
    "#End message\n",
    "print('Document ready. Run again for other analysis.')"
   ]
  }
 ],
 "metadata": {
  "kernelspec": {
   "display_name": "Python 3",
   "language": "python",
   "name": "python3"
  },
  "language_info": {
   "codemirror_mode": {
    "name": "ipython",
    "version": 3
   },
   "file_extension": ".py",
   "mimetype": "text/x-python",
   "name": "python",
   "nbconvert_exporter": "python",
   "pygments_lexer": "ipython3",
   "version": "3.7.6"
  }
 },
 "nbformat": 4,
 "nbformat_minor": 4
}
